{
 "cells": [
  {
   "cell_type": "markdown",
   "metadata": {},
   "source": [
    "# Exchange example with SQL backend"
   ]
  },
  {
   "cell_type": "code",
   "execution_count": 162,
   "metadata": {},
   "outputs": [],
   "source": [
    "import sqlite3\n",
    "import datetime\n",
    "import pandas as pd\n",
    "from collections import OrderedDict"
   ]
  },
  {
   "cell_type": "code",
   "execution_count": 163,
   "metadata": {},
   "outputs": [],
   "source": [
    "conn = sqlite3.connect('exchange.db')"
   ]
  },
  {
   "cell_type": "code",
   "execution_count": 164,
   "metadata": {},
   "outputs": [],
   "source": [
    "c = conn.cursor()"
   ]
  },
  {
   "cell_type": "code",
   "execution_count": 189,
   "metadata": {},
   "outputs": [],
   "source": [
    "def create_filled(bid, ask):\n",
    "    \n",
    "    users = list(OrderedDict(sorted(pd.read_sql_query('''SELECT * FROM users''', conn).to_dict(orient='index').items())).values())\n",
    "    \n",
    "    price = 0\n",
    "    if bid['time'] < ask['time']:\n",
    "        price = min(bid['price'],ask['price'])\n",
    "    else:\n",
    "        price = max(ask['price'],bid['price'])\n",
    "\n",
    "    temp = {}\n",
    "    temp['bid_id'] = bid['user_id']\n",
    "    temp['ask_id'] = ask['user_id']\n",
    "    temp['volume'] = min(bid['volume'],ask['volume'])\n",
    "    temp['price'] = price\n",
    "    temp['time'] = datetime.datetime.now()\n",
    "    temp['bid_time'] = bid['time']\n",
    "    temp['ask_time'] = ask['time']\n",
    "    temp['security_id'] = bid['security_id']\n",
    "\n",
    "    for user in users:\n",
    "        if user['user_id'] == bid['user_id']:\n",
    "            user['cash'] -= price * min(bid['volume'],ask['volume'])\n",
    "        elif user['user_id'] == ask['user_id']:\n",
    "            user['cash'] += price * min(bid['volume'],ask['volume'])\n",
    "        else:\n",
    "            pass\n",
    "    \n",
    "    users_df = pd.DataFrame(users)\n",
    "    users_df.to_sql(name='users', con=conn, if_exists='replace', index = False)\n",
    "    \n",
    "    execute = 'UPDATE ref_prices SET ref_price = {} WHERE security_id = {}'.format(price,temp['security_id'])\n",
    "    c.execute(execute)\n",
    "\n",
    "    return temp"
   ]
  },
  {
   "cell_type": "code",
   "execution_count": 190,
   "metadata": {},
   "outputs": [],
   "source": [
    "def validate_pin(user, pin):\n",
    "    \n",
    "    users = pd.read_sql_query('''SELECT * FROM users''', conn)\n",
    "\n",
    "    if user not in list(users.username):\n",
    "        return False\n",
    "    else:\n",
    "        if users[users.username == user].pin.iloc[0] == pin:\n",
    "            return True\n",
    "        else:\n",
    "            return False"
   ]
  },
  {
   "cell_type": "code",
   "execution_count": 191,
   "metadata": {},
   "outputs": [
    {
     "data": {
      "text/plain": [
       "<sqlite3.Cursor at 0x110533110>"
      ]
     },
     "execution_count": 191,
     "metadata": {},
     "output_type": "execute_result"
    }
   ],
   "source": [
    "c.execute('DROP TABLE bids')\n",
    "c.execute('DROP TABLE asks')\n",
    "c.execute('DROP TABLE fills')\n",
    "c.execute('DROP TABLE users')\n",
    "c.execute('DROP TABLE markets')\n",
    "c.execute('DROP TABLE positions')\n",
    "c.execute('DROP TABLE ref_prices')\n",
    "c.execute('DROP TABLE settlement')"
   ]
  },
  {
   "cell_type": "code",
   "execution_count": 192,
   "metadata": {},
   "outputs": [
    {
     "data": {
      "text/plain": [
       "<sqlite3.Cursor at 0x110533110>"
      ]
     },
     "execution_count": 192,
     "metadata": {},
     "output_type": "execute_result"
    }
   ],
   "source": [
    "c.execute('''CREATE TABLE bids\n",
    "             (security_id, user_id, volume, price, time)''')\n",
    "\n",
    "c.execute('''CREATE TABLE asks\n",
    "             (security_id, user_id, volume, price, time)''')\n",
    "\n",
    "c.execute('''CREATE TABLE fills\n",
    "             (bid_id, ask_id, volume, price, time, bid_time, ask_time, security_id)''')\n",
    "\n",
    "c.execute('''CREATE TABLE users\n",
    "             (user_id, username, pin, cash)''')\n",
    "\n",
    "c.execute('''CREATE TABLE markets\n",
    "             (security_id, market_name, market_descriptor, create_time, end_time)''')\n",
    "\n",
    "c.execute('''CREATE TABLE positions\n",
    "             (security_id, user_id, position)''')\n",
    "\n",
    "c.execute('''CREATE TABLE ref_prices\n",
    "             (security_id, ref_price)''')\n",
    "\n",
    "c.execute('''CREATE TABLE settlement\n",
    "             (security_id, settle, in_settle)''')"
   ]
  },
  {
   "cell_type": "markdown",
   "metadata": {},
   "source": [
    "# Create new users"
   ]
  },
  {
   "cell_type": "code",
   "execution_count": 193,
   "metadata": {},
   "outputs": [],
   "source": [
    "def create_user(user, pin):\n",
    "    users = pd.read_sql_query('''SELECT * FROM users''', conn)\n",
    "    \n",
    "    if user in list(pd.read_sql_query('''SELECT * FROM users''', conn).username):\n",
    "        return 'Username taken'\n",
    "    else:\n",
    "        if len(users) > 0:\n",
    "            user_id = int(users.user_id.max()) + 1\n",
    "        else:\n",
    "            user_id = 0\n",
    "\n",
    "        exec_string = 'INSERT INTO users (user_id, username, pin, cash) values (?, ?, ?, ?)'\n",
    "        c.execute(exec_string,\n",
    "            (user_id, user, pin, 0))"
   ]
  },
  {
   "cell_type": "code",
   "execution_count": 194,
   "metadata": {},
   "outputs": [],
   "source": [
    "create_user('Michael',1)\n",
    "create_user('John',1)"
   ]
  },
  {
   "cell_type": "code",
   "execution_count": 195,
   "metadata": {},
   "outputs": [
    {
     "data": {
      "text/html": [
       "<div>\n",
       "<table border=\"1\" class=\"dataframe\">\n",
       "  <thead>\n",
       "    <tr style=\"text-align: right;\">\n",
       "      <th></th>\n",
       "      <th>user_id</th>\n",
       "      <th>username</th>\n",
       "      <th>pin</th>\n",
       "      <th>cash</th>\n",
       "    </tr>\n",
       "  </thead>\n",
       "  <tbody>\n",
       "    <tr>\n",
       "      <th>0</th>\n",
       "      <td>0</td>\n",
       "      <td>Michael</td>\n",
       "      <td>1</td>\n",
       "      <td>0</td>\n",
       "    </tr>\n",
       "    <tr>\n",
       "      <th>1</th>\n",
       "      <td>1</td>\n",
       "      <td>John</td>\n",
       "      <td>1</td>\n",
       "      <td>0</td>\n",
       "    </tr>\n",
       "  </tbody>\n",
       "</table>\n",
       "</div>"
      ],
      "text/plain": [
       "   user_id username  pin  cash\n",
       "0        0  Michael    1     0\n",
       "1        1     John    1     0"
      ]
     },
     "execution_count": 195,
     "metadata": {},
     "output_type": "execute_result"
    }
   ],
   "source": [
    "pd.read_sql_query('''SELECT * FROM users''', conn)"
   ]
  },
  {
   "cell_type": "markdown",
   "metadata": {},
   "source": [
    "# Creating new markets"
   ]
  },
  {
   "cell_type": "code",
   "execution_count": 196,
   "metadata": {},
   "outputs": [],
   "source": [
    "def create_market(market_name,market_descriptor, end_time):\n",
    "    markets = pd.read_sql_query('''SELECT * FROM markets''', conn)\n",
    "    if len(markets) > 0:\n",
    "        security_id = int(markets.security_id.max()) + 1\n",
    "    else:\n",
    "        security_id = 0\n",
    "    \n",
    "    if len(markets.loc[markets.market_name == market_name]) > 0:\n",
    "        return 'Market already exists'\n",
    "    else: \n",
    "        exec_string = 'INSERT INTO markets (security_id, market_name, market_descriptor, create_time, end_time) values (?, ?, ?, ?, ?)'\n",
    "        create_time = datetime.datetime.now()\n",
    "        c.execute(exec_string,\n",
    "            (security_id, market_name, market_descriptor, create_time, end_time))\n",
    "\n",
    "        exec_string = 'INSERT INTO settlement (security_id,settle,in_settle) values ({},NULL,NULL)'.format(security_id)\n",
    "        c.execute(exec_string)\n",
    "        \n",
    "        exec_string = 'INSERT INTO ref_prices (security_id,ref_price) values ({},NULL)'.format(security_id)\n",
    "        c.execute(exec_string)\n",
    "        "
   ]
  },
  {
   "cell_type": "code",
   "execution_count": 197,
   "metadata": {},
   "outputs": [],
   "source": [
    "end_time = datetime.datetime(2020, 11, 17, 23, 59) #Dec 31st, 11:59 pm\n",
    "create_market('Fake Market','Binary payout - contract size $1', end_time)"
   ]
  },
  {
   "cell_type": "code",
   "execution_count": 198,
   "metadata": {},
   "outputs": [
    {
     "data": {
      "text/html": [
       "<div>\n",
       "<table border=\"1\" class=\"dataframe\">\n",
       "  <thead>\n",
       "    <tr style=\"text-align: right;\">\n",
       "      <th></th>\n",
       "      <th>security_id</th>\n",
       "      <th>market_name</th>\n",
       "      <th>market_descriptor</th>\n",
       "      <th>create_time</th>\n",
       "      <th>end_time</th>\n",
       "    </tr>\n",
       "  </thead>\n",
       "  <tbody>\n",
       "    <tr>\n",
       "      <th>0</th>\n",
       "      <td>0</td>\n",
       "      <td>Fake Market</td>\n",
       "      <td>Binary payout - contract size $1</td>\n",
       "      <td>2020-04-22 21:24:22.592543</td>\n",
       "      <td>2020-11-17 23:59:00</td>\n",
       "    </tr>\n",
       "  </tbody>\n",
       "</table>\n",
       "</div>"
      ],
      "text/plain": [
       "   security_id  market_name                 market_descriptor  \\\n",
       "0            0  Fake Market  Binary payout - contract size $1   \n",
       "\n",
       "                  create_time             end_time  \n",
       "0  2020-04-22 21:24:22.592543  2020-11-17 23:59:00  "
      ]
     },
     "execution_count": 198,
     "metadata": {},
     "output_type": "execute_result"
    }
   ],
   "source": [
    "pd.read_sql_query('''SELECT * FROM markets''', conn).sort_values('create_time')"
   ]
  },
  {
   "cell_type": "markdown",
   "metadata": {},
   "source": [
    "# Create bid"
   ]
  },
  {
   "cell_type": "code",
   "execution_count": 199,
   "metadata": {},
   "outputs": [],
   "source": [
    "def create_bid(security, user, pin, volume, price):\n",
    "    \n",
    "    close_markets()\n",
    "    \n",
    "    users = pd.read_sql_query('''SELECT * FROM users''', conn)\n",
    "    \n",
    "    if user not in list(users.username):\n",
    "        return 'User does not exist'\n",
    "    else:\n",
    "        user_id = int(users[users.username == user]['user_id'].iloc[0])\n",
    "    \n",
    "    if security not in pd.read_sql_query('''SELECT * FROM markets''', conn).security_id:\n",
    "        return 'Security does not exist'\n",
    "    \n",
    "    if user_id in list(pd.read_sql_query('''SELECT * FROM asks''', conn)['user_id']):\n",
    "        asks = pd.read_sql_query('''SELECT * FROM asks''', conn)\n",
    "        if price >= asks.loc[asks.user_id == user_id].price.max():\n",
    "            return 'Invalid Order - crossing own ask'\n",
    "    \n",
    "    if security in pd.read_sql_query('''SELECT * FROM settlement WHERE in_settle = 1''', conn).security_id:\n",
    "        return 'Market is closed'\n",
    "    \n",
    "    if users[users.username == user].pin.iloc[0] == pin:\n",
    "    \n",
    "        exec_string = 'INSERT INTO bids (security_id, user_id, volume, price, time) values (?, ?, ?, ?, ?)'\n",
    "        time = datetime.datetime.now()\n",
    "        c.execute(exec_string,\n",
    "            (security, user_id, volume, price, time))\n",
    "\n",
    "        order_flow()\n",
    "        update_positions()\n",
    "    \n",
    "    else:\n",
    "        return 'Incorrect Pin'"
   ]
  },
  {
   "cell_type": "code",
   "execution_count": 200,
   "metadata": {},
   "outputs": [],
   "source": [
    "create_bid(0,'Michael',1,10,0.5)"
   ]
  },
  {
   "cell_type": "code",
   "execution_count": 201,
   "metadata": {},
   "outputs": [
    {
     "data": {
      "text/html": [
       "<div>\n",
       "<table border=\"1\" class=\"dataframe\">\n",
       "  <thead>\n",
       "    <tr style=\"text-align: right;\">\n",
       "      <th></th>\n",
       "      <th>price</th>\n",
       "      <th>security_id</th>\n",
       "      <th>time</th>\n",
       "      <th>user_id</th>\n",
       "      <th>volume</th>\n",
       "    </tr>\n",
       "  </thead>\n",
       "  <tbody>\n",
       "    <tr>\n",
       "      <th>0</th>\n",
       "      <td>0.5</td>\n",
       "      <td>0</td>\n",
       "      <td>2020-04-22 21:24:24.389430</td>\n",
       "      <td>0</td>\n",
       "      <td>10</td>\n",
       "    </tr>\n",
       "  </tbody>\n",
       "</table>\n",
       "</div>"
      ],
      "text/plain": [
       "   price  security_id                        time  user_id  volume\n",
       "0    0.5            0  2020-04-22 21:24:24.389430        0      10"
      ]
     },
     "execution_count": 201,
     "metadata": {},
     "output_type": "execute_result"
    }
   ],
   "source": [
    "pd.read_sql_query('''SELECT * FROM bids''', conn)"
   ]
  },
  {
   "cell_type": "markdown",
   "metadata": {},
   "source": [
    "# Create Ask"
   ]
  },
  {
   "cell_type": "code",
   "execution_count": 202,
   "metadata": {},
   "outputs": [],
   "source": [
    "def create_ask(security, user, pin, volume, price):\n",
    "    \n",
    "    close_markets()\n",
    "    \n",
    "    if user not in list(users.username):\n",
    "        return 'User does not exist'\n",
    "    else:\n",
    "        user_id = int(users[users.username == user]['user_id'].iloc[0])\n",
    "    \n",
    "    if security not in pd.read_sql_query('''SELECT * FROM markets''', conn).security_id:\n",
    "        return 'Security does not exist'\n",
    "    \n",
    "    if user_id in pd.read_sql_query('''SELECT * FROM bids''', conn).user_id:\n",
    "        bids = pd.read_sql_query('''SELECT * FROM bids''', conn)\n",
    "        if price <= bids.loc[bids.user_id == user_id].price.max():\n",
    "            return 'Invalid Order - crossing own bid'\n",
    "        \n",
    "    if security in pd.read_sql_query('''SELECT * FROM settlement WHERE in_settle = 1''', conn).security_id:\n",
    "        return 'Market is closed'\n",
    "    \n",
    "    if users[users.username == user].pin.iloc[0] == pin:\n",
    "    \n",
    "        exec_string = 'INSERT INTO asks (security_id, user_id, volume, price, time) values (?, ?, ?, ?, ?)'\n",
    "        time = datetime.datetime.now()\n",
    "        c.execute(exec_string,\n",
    "            (security, user_id, volume, price, time))\n",
    "\n",
    "        order_flow()\n",
    "        update_positions()\n",
    "    \n",
    "    else:\n",
    "        return 'Incorrect Pin'"
   ]
  },
  {
   "cell_type": "code",
   "execution_count": 203,
   "metadata": {},
   "outputs": [],
   "source": [
    "create_ask(0,'John',1,10,0.5)"
   ]
  },
  {
   "cell_type": "code",
   "execution_count": 204,
   "metadata": {},
   "outputs": [
    {
     "data": {
      "text/html": [
       "<div>\n",
       "<table border=\"1\" class=\"dataframe\">\n",
       "  <thead>\n",
       "    <tr style=\"text-align: right;\">\n",
       "      <th></th>\n",
       "      <th>security_id</th>\n",
       "      <th>user_id</th>\n",
       "      <th>volume</th>\n",
       "      <th>price</th>\n",
       "      <th>time</th>\n",
       "    </tr>\n",
       "  </thead>\n",
       "  <tbody>\n",
       "  </tbody>\n",
       "</table>\n",
       "</div>"
      ],
      "text/plain": [
       "Empty DataFrame\n",
       "Columns: [security_id, user_id, volume, price, time]\n",
       "Index: []"
      ]
     },
     "execution_count": 204,
     "metadata": {},
     "output_type": "execute_result"
    }
   ],
   "source": [
    "pd.read_sql_query('''SELECT * FROM asks''', conn)"
   ]
  },
  {
   "cell_type": "markdown",
   "metadata": {},
   "source": [
    "# Delete exposure"
   ]
  },
  {
   "cell_type": "code",
   "execution_count": 205,
   "metadata": {},
   "outputs": [],
   "source": [
    "def delete_exposure(security, user, pin):\n",
    "    \n",
    "    close_markets()\n",
    "    \n",
    "    if user not in list(users.username):\n",
    "        return 'User does not exist'\n",
    "    else:\n",
    "        user_id = int(users[users.username == user]['user_id'].iloc[0])\n",
    "    \n",
    "    if security not in pd.read_sql_query('''SELECT * FROM markets''', conn).security_id:\n",
    "        return 'Security does not exist'\n",
    "\n",
    "    if security in pd.read_sql_query('''SELECT * FROM settlement WHERE in_settle = 1''', conn).security_id:\n",
    "        return 'Market is closed'\n",
    "    \n",
    "    if users[users.username == user].pin.iloc[0] == pin:\n",
    "\n",
    "        execute = 'DELETE FROM bids WHERE security_id = {} AND user_id = {}'.format(security,user_id)\n",
    "        c.execute(execute)\n",
    "\n",
    "        execute = 'DELETE FROM asks WHERE security_id = {} AND user_id = {}'.format(security,user_id)\n",
    "        c.execute(execute)\n",
    "    \n",
    "        order_flow()\n",
    "        update_positions()\n",
    "    \n",
    "    else:\n",
    "        return 'Incorrect Pin'"
   ]
  },
  {
   "cell_type": "code",
   "execution_count": 206,
   "metadata": {},
   "outputs": [],
   "source": [
    "delete_exposure(0,'Michael',1)"
   ]
  },
  {
   "cell_type": "markdown",
   "metadata": {},
   "source": [
    "# Leaderboard"
   ]
  },
  {
   "cell_type": "code",
   "execution_count": 244,
   "metadata": {},
   "outputs": [],
   "source": [
    "def ret_leaderboard():\n",
    "    positions_df = pd.read_sql_query('''SELECT * FROM positions''', conn)\n",
    "    ref_prices_df = pd.read_sql_query('''SELECT * FROM ref_prices''', conn)\n",
    "    merged = positions_df.merge(ref_prices_df, on = ['security_id'])\n",
    "    merged['position_worth'] = merged.position * merged.ref_price\n",
    "\n",
    "    temp_list = []\n",
    "\n",
    "    for index, row in pd.read_sql_query('''SELECT * FROM users''', conn).iterrows():\n",
    "\n",
    "        temp = {}\n",
    "        temp['username'] = row.username\n",
    "        temp['pnl'] = row.cash + merged[merged.user_id == row.user_id].position_worth.sum()\n",
    "        temp_list.append(temp)\n",
    "\n",
    "    return pd.DataFrame(temp_list)[['username','pnl']].sort_values('pnl',ascending = False)"
   ]
  },
  {
   "cell_type": "code",
   "execution_count": 245,
   "metadata": {},
   "outputs": [
    {
     "data": {
      "text/html": [
       "<div>\n",
       "<table border=\"1\" class=\"dataframe\">\n",
       "  <thead>\n",
       "    <tr style=\"text-align: right;\">\n",
       "      <th></th>\n",
       "      <th>username</th>\n",
       "      <th>pnl</th>\n",
       "    </tr>\n",
       "  </thead>\n",
       "  <tbody>\n",
       "    <tr>\n",
       "      <th>0</th>\n",
       "      <td>Michael</td>\n",
       "      <td>0.0</td>\n",
       "    </tr>\n",
       "    <tr>\n",
       "      <th>1</th>\n",
       "      <td>John</td>\n",
       "      <td>0.0</td>\n",
       "    </tr>\n",
       "  </tbody>\n",
       "</table>\n",
       "</div>"
      ],
      "text/plain": [
       "  username  pnl\n",
       "0  Michael  0.0\n",
       "1     John  0.0"
      ]
     },
     "execution_count": 245,
     "metadata": {},
     "output_type": "execute_result"
    }
   ],
   "source": [
    "ret_leaderboard()"
   ]
  },
  {
   "cell_type": "markdown",
   "metadata": {},
   "source": [
    "# Run orderflow"
   ]
  },
  {
   "cell_type": "code",
   "execution_count": 18,
   "metadata": {},
   "outputs": [],
   "source": [
    "def order_flow():\n",
    "    \n",
    "    bids = list(OrderedDict(sorted(pd.read_sql_query('''SELECT * FROM bids''', conn).sort_values('time').to_dict(orient='index').items())).values())\n",
    "    asks = list(OrderedDict(sorted(pd.read_sql_query('''SELECT * FROM asks''', conn).sort_values('time').to_dict(orient='index').items())).values())\n",
    "\n",
    "    for bid in bids:\n",
    "        bid_id = bid['user_id']\n",
    "        bid_volume = bid['volume']\n",
    "        bid_price = bid['price']\n",
    "        bid_time = bid['time']\n",
    "        for ask in asks:\n",
    "            ask_id = ask['user_id']\n",
    "            ask_volume = ask['volume']\n",
    "            ask_price = ask['price']\n",
    "            ask_time = ask['time']\n",
    "\n",
    "            if bid_id != ask_id and bid['security_id'] == ask['security_id']:\n",
    "                if ask_price <= bid_price:\n",
    "                    exec_string = 'INSERT INTO fills (bid_id, ask_id, volume, price, time, bid_time, ask_time, security_id) values (?, ?, ?, ?, ?, ?, ?, ?)'\n",
    "                    temp = create_filled(bid, ask)\n",
    "                    c.execute(exec_string,\n",
    "                        (temp['bid_id'], temp['ask_id'], temp['volume'], temp['price'], temp['time'], temp['bid_time'], temp['ask_time'], temp['security_id']))\n",
    "                    sub = min(bid['volume'],ask['volume'])\n",
    "                    bid['volume'] -= sub\n",
    "                    ask['volume'] -= sub\n",
    "\n",
    "                    bids = list(filter(lambda i: i['volume'] != 0, bids)) \n",
    "                    asks = list(filter(lambda i: i['volume'] != 0, asks)) \n",
    "\n",
    "    bids = list(filter(lambda i: i['volume'] != 0, bids)) \n",
    "    asks = list(filter(lambda i: i['volume'] != 0, asks))\n",
    "    \n",
    "    if bids == []:\n",
    "        c.execute('DELETE FROM bids')\n",
    "    else:\n",
    "        bids_df = pd.DataFrame(bids)\n",
    "        bids_df.to_sql(name='bids', con=conn, if_exists='replace', index = False)\n",
    "    \n",
    "    if asks == []:\n",
    "        c.execute('DELETE FROM asks')\n",
    "    else:\n",
    "        asks_df = pd.DataFrame(asks)\n",
    "        asks_df.to_sql(name='asks', con=conn, if_exists='replace', index = False)        "
   ]
  },
  {
   "cell_type": "markdown",
   "metadata": {},
   "source": [
    "# Get positions"
   ]
  },
  {
   "cell_type": "code",
   "execution_count": 115,
   "metadata": {},
   "outputs": [],
   "source": [
    "def update_positions():\n",
    "    fills = list(OrderedDict(sorted(pd.read_sql_query('''SELECT * FROM fills''', conn).to_dict(orient='index').items())).values())\n",
    "    positions = []\n",
    "    for fill in fills:\n",
    "        temp_ask = {}\n",
    "        temp_ask['security_id'] = fill['security_id']\n",
    "        temp_ask['user_id'] = fill['ask_id']\n",
    "        temp_ask['position'] = -fill['volume']\n",
    "\n",
    "        temp_bid = {}\n",
    "        temp_bid['security_id'] = fill['security_id']\n",
    "        temp_bid['user_id'] = fill['bid_id']\n",
    "        temp_bid['position'] = fill['volume']\n",
    "\n",
    "        positions.append(temp_bid)\n",
    "        positions.append(temp_ask)\n",
    "    \n",
    "    if positions == []:\n",
    "        return\n",
    "    else:\n",
    "        positions_df = pd.DataFrame(positions)\n",
    "        add_list = []\n",
    "        for name, group in positions_df.groupby(['security_id','user_id']):\n",
    "            temp = {}\n",
    "            security_id = name[0]\n",
    "            user_id = name[1]\n",
    "            position = group.position.sum()\n",
    "            temp['security_id'] = security_id\n",
    "            temp['user_id'] = user_id\n",
    "            temp['position'] = position\n",
    "            add_list.append(temp)\n",
    "\n",
    "        pd.DataFrame(add_list).to_sql(name='positions', con=conn, if_exists='replace', index = False)   "
   ]
  },
  {
   "cell_type": "code",
   "execution_count": 156,
   "metadata": {},
   "outputs": [
    {
     "data": {
      "text/html": [
       "<div>\n",
       "<table border=\"1\" class=\"dataframe\">\n",
       "  <thead>\n",
       "    <tr style=\"text-align: right;\">\n",
       "      <th></th>\n",
       "      <th>position</th>\n",
       "      <th>security_id</th>\n",
       "      <th>user_id</th>\n",
       "    </tr>\n",
       "  </thead>\n",
       "  <tbody>\n",
       "    <tr>\n",
       "      <th>0</th>\n",
       "      <td>10</td>\n",
       "      <td>0</td>\n",
       "      <td>0</td>\n",
       "    </tr>\n",
       "    <tr>\n",
       "      <th>1</th>\n",
       "      <td>-10</td>\n",
       "      <td>0</td>\n",
       "      <td>1</td>\n",
       "    </tr>\n",
       "  </tbody>\n",
       "</table>\n",
       "</div>"
      ],
      "text/plain": [
       "   position  security_id  user_id\n",
       "0        10            0        0\n",
       "1       -10            0        1"
      ]
     },
     "execution_count": 156,
     "metadata": {},
     "output_type": "execute_result"
    }
   ],
   "source": [
    "pd.read_sql_query('''SELECT * FROM positions''', conn)"
   ]
  },
  {
   "cell_type": "markdown",
   "metadata": {},
   "source": [
    "# List of markets print out"
   ]
  },
  {
   "cell_type": "code",
   "execution_count": 230,
   "metadata": {},
   "outputs": [],
   "source": [
    "def list_of_markets():\n",
    "    \n",
    "    list_of_marks = []\n",
    "    \n",
    "    fills_df = pd.read_sql_query('''SELECT * FROM fills''', conn)\n",
    "    bids_df = pd.read_sql_query('''SELECT * FROM bids''', conn)\n",
    "    asks_df = pd.read_sql_query('''SELECT * FROM asks''', conn)\n",
    "\n",
    "    for index, row in pd.read_sql_query('''SELECT * FROM markets''', conn).iterrows():\n",
    "\n",
    "        sendstr = ''\n",
    "\n",
    "        if row.security_id in fills_df.security_id:\n",
    "            sendstr += row.market_name + ' - Last traded price: ' + str(fills_df.sort_values('time').iloc[0].price)\n",
    "        else:\n",
    "            sendstr += row.market_name + ' - not traded yet'\n",
    "\n",
    "        if row.security_id in bids_df.security_id:\n",
    "            sendstr += ', Best bid: ' + str(bids_df.loc[bids_df.security_id == row.security_id].price.max())\n",
    "        else:\n",
    "            sendstr += ', No current bids'\n",
    "\n",
    "        if row.security_id in asks_df.security_id:\n",
    "            sendstr += ', Best ask: ' + str(asks_df.loc[asks_df.security_id == row.security_id].price.min())\n",
    "        else:\n",
    "            sendstr += ', No current asks'\n",
    "            \n",
    "        list_of_marks.append(sendstr)\n",
    "\n",
    "    return list_of_marks"
   ]
  },
  {
   "cell_type": "code",
   "execution_count": 231,
   "metadata": {},
   "outputs": [
    {
     "data": {
      "text/plain": [
       "['Fake Market - Last traded price: 0.5, No current bids, No current asks']"
      ]
     },
     "execution_count": 231,
     "metadata": {},
     "output_type": "execute_result"
    }
   ],
   "source": [
    "list_of_markets()"
   ]
  },
  {
   "cell_type": "markdown",
   "metadata": {},
   "source": [
    "# User summary"
   ]
  },
  {
   "cell_type": "code",
   "execution_count": 228,
   "metadata": {},
   "outputs": [],
   "source": [
    "def get_user_info(user, pin):\n",
    "    \n",
    "    fills_df = pd.read_sql_query('''SELECT * FROM fills''', conn)\n",
    "\n",
    "    if user not in list(users.username):\n",
    "        return 'User does not exist'\n",
    "    else:\n",
    "        user_id = int(users[users.username == user]['user_id'].iloc[0])\n",
    "        \n",
    "    if users[users.username == user].pin.iloc[0] == pin:\n",
    "    \n",
    "        sendstr = 'Overall positions\\n'\n",
    "        user = pd.read_sql_query('''SELECT * FROM users WHERE user_id = {}'''.format(user_id), conn)\n",
    "        sendstr += user.iloc[0].username + '\\n'\n",
    "        sendstr += 'Cash: ' + str(user.iloc[0].cash) + '\\n'\n",
    "\n",
    "        positions = pd.read_sql_query('''SELECT * \n",
    "                                         FROM positions \n",
    "                                         JOIN markets \n",
    "                                         ON positions.security_id = markets.security_id\n",
    "                                         WHERE user_id = {}'''.format(user_id), conn)\n",
    "\n",
    "        positions = positions.loc[:,~positions.columns.duplicated()]    \n",
    "        \n",
    "        for index, row in positions.iterrows():\n",
    "            sendstr += row.market_name + ': ' + str(row.position) + ' contracts. Last traded price: ' + str(fills_df[fills_df.security_id == row.security_id].sort_values('time').iloc[0].price) + '\\n\\n'\n",
    "\n",
    "        sendstr += 'Open orders\\n'\n",
    "        bids = pd.read_sql_query('''SELECT * \n",
    "                                     FROM bids \n",
    "                                     JOIN markets \n",
    "                                     ON bids.security_id = markets.security_id\n",
    "                                     WHERE user_id = {}'''.format(user_id), conn)\n",
    "\n",
    "        asks = pd.read_sql_query('''SELECT * \n",
    "                                 FROM asks \n",
    "                                 JOIN markets \n",
    "                                 ON asks.security_id = markets.security_id\n",
    "                                 WHERE user_id = {}'''.format(user_id), conn)\n",
    "\n",
    "        if len(bids) == 0:\n",
    "            sendstr += 'No outstanding bids\\n'\n",
    "        else:\n",
    "            sendstr += 'Outstanding bids\\n'\n",
    "            for index, row in bids.iterrows():\n",
    "                sendstr += row.market_name + ' - ' + str(row.volume) + ' contracts for ' + str(row.price) + ' placed at: ' + str(row.time) + '\\n'\n",
    "\n",
    "        sendstr += '\\n'\n",
    "\n",
    "        if len(asks) == 0:\n",
    "            sendstr += 'No outstanding asks\\n'\n",
    "        else:\n",
    "            sendstr += 'Outstanding asks\\n'\n",
    "            for index, row in asks.iterrows():\n",
    "                sendstr += row.market_name + ': ' + str(row.volume) + ' contracts for: ' + str(row.price) +'\\n'\n",
    "\n",
    "        return sendstr\n",
    "    \n",
    "    else:\n",
    "        return 'Incorrect Pin'"
   ]
  },
  {
   "cell_type": "code",
   "execution_count": 229,
   "metadata": {},
   "outputs": [
    {
     "name": "stdout",
     "output_type": "stream",
     "text": [
      "Overall positions\n",
      "Michael\n",
      "Cash: -5.0\n",
      "Fake Market: 10 contracts. Last traded price: 0.5\n",
      "\n",
      "Open orders\n",
      "No outstanding bids\n",
      "\n",
      "No outstanding asks\n",
      "\n"
     ]
    }
   ],
   "source": [
    "print(get_user_info('Michael',1))"
   ]
  },
  {
   "cell_type": "code",
   "execution_count": null,
   "metadata": {},
   "outputs": [],
   "source": [
    "create_bid(0,0,10,0.4)"
   ]
  },
  {
   "cell_type": "code",
   "execution_count": null,
   "metadata": {},
   "outputs": [],
   "source": [
    "print(get_user_info(0))"
   ]
  },
  {
   "cell_type": "markdown",
   "metadata": {},
   "source": [
    "# Settlement"
   ]
  },
  {
   "cell_type": "code",
   "execution_count": null,
   "metadata": {},
   "outputs": [],
   "source": [
    "display(pd.read_sql_query('''SELECT * FROM markets''', conn))\n",
    "display(pd.read_sql_query('''SELECT * FROM positions''', conn))\n",
    "display(pd.read_sql_query('''SELECT * FROM settlement''', conn))\n",
    "display(pd.read_sql_query('''SELECT * FROM bids''', conn))\n",
    "display(pd.read_sql_query('''SELECT * FROM asks''', conn))\n",
    "display(pd.read_sql_query('''SELECT * FROM users''', conn))\n",
    "display(pd.read_sql_query('''SELECT * FROM fills''', conn))"
   ]
  },
  {
   "cell_type": "code",
   "execution_count": 16,
   "metadata": {},
   "outputs": [],
   "source": [
    "def set_settle(security_id,settle):\n",
    "    \n",
    "    close_markets()\n",
    "    \n",
    "    execute = 'SELECT * FROM settlement WHERE security_id = {}'.format(security_id)\n",
    "    temp_df = pd.read_sql_query(execute, conn)\n",
    "    if len(temp_df.loc[temp_df.in_settle == 1]) == 0:\n",
    "        return 'Market not closed'\n",
    "    else:\n",
    "        execute = 'UPDATE settlement SET settle = {} WHERE security_id = {}'.format(settle,security_id)\n",
    "        c.execute(execute)\n",
    "\n",
    "        pos = pd.read_sql_query('''SELECT * FROM positions JOIN settlement ON positions.security_id = settlement.security_id''', conn)\n",
    "        for index, row in pos.iterrows():\n",
    "            if row.in_settle == 1:\n",
    "                execute = 'UPDATE users SET cash = cash + {} * {} WHERE user_id = {}'.format(row.position,row.settle,row.user_id)\n",
    "                c.execute(execute)\n",
    "\n",
    "        execute = 'DELETE FROM positions WHERE security_id = {}'.format(security_id)\n",
    "        c.execute(execute)"
   ]
  },
  {
   "cell_type": "code",
   "execution_count": 15,
   "metadata": {},
   "outputs": [],
   "source": [
    "def close_markets():\n",
    "    for index, row in pd.read_sql_query('''SELECT * FROM markets''', conn).iterrows():\n",
    "        if datetime.datetime.now() >= datetime.datetime.strptime(row.end_time,'%Y-%m-%d %H:%M:%S'):\n",
    "            execute = 'UPDATE settlement SET in_settle = 1 WHERE security_id = {}'.format(row.security_id)\n",
    "            c.execute(execute)\n",
    "            execute = 'DELETE FROM bids WHERE security_id = {}'.format(row.security_id)\n",
    "            c.execute(execute)\n",
    "            execute = 'DELETE FROM asks WHERE security_id = {}'.format(row.security_id)\n",
    "            c.execute(execute) "
   ]
  },
  {
   "cell_type": "code",
   "execution_count": null,
   "metadata": {},
   "outputs": [],
   "source": [
    "set_settle(0,1)"
   ]
  },
  {
   "cell_type": "code",
   "execution_count": null,
   "metadata": {},
   "outputs": [],
   "source": [
    "display(pd.read_sql_query('''SELECT * FROM markets''', conn))\n",
    "display(pd.read_sql_query('''SELECT * FROM positions''', conn))\n",
    "display(pd.read_sql_query('''SELECT * FROM settlement''', conn))\n",
    "display(pd.read_sql_query('''SELECT * FROM bids''', conn))\n",
    "display(pd.read_sql_query('''SELECT * FROM asks''', conn))\n",
    "display(pd.read_sql_query('''SELECT * FROM users''', conn))\n",
    "display(pd.read_sql_query('''SELECT * FROM fills''', conn))"
   ]
  },
  {
   "cell_type": "code",
   "execution_count": null,
   "metadata": {},
   "outputs": [],
   "source": []
  }
 ],
 "metadata": {
  "kernelspec": {
   "display_name": "Python 3",
   "language": "python",
   "name": "python3"
  },
  "language_info": {
   "codemirror_mode": {
    "name": "ipython",
    "version": 3
   },
   "file_extension": ".py",
   "mimetype": "text/x-python",
   "name": "python",
   "nbconvert_exporter": "python",
   "pygments_lexer": "ipython3",
   "version": "3.6.4"
  }
 },
 "nbformat": 4,
 "nbformat_minor": 2
}
