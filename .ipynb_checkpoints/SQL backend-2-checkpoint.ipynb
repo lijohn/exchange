{
 "cells": [
  {
   "cell_type": "markdown",
   "metadata": {},
   "source": [
    "# Exchange example with SQL backend"
   ]
  },
  {
   "cell_type": "code",
   "execution_count": 1,
   "metadata": {},
   "outputs": [],
   "source": [
    "import sqlite3\n",
    "import datetime\n",
    "import pandas as pd\n",
    "from collections import OrderedDict"
   ]
  },
  {
   "cell_type": "code",
   "execution_count": 2,
   "metadata": {},
   "outputs": [],
   "source": [
    "conn = sqlite3.connect('test.db')"
   ]
  },
  {
   "cell_type": "code",
   "execution_count": 3,
   "metadata": {},
   "outputs": [],
   "source": [
    "c = conn.cursor()"
   ]
  },
  {
   "cell_type": "code",
   "execution_count": 4,
   "metadata": {},
   "outputs": [],
   "source": [
    "def create_filled(bid, ask):\n",
    "    \n",
    "    users = list(OrderedDict(sorted(pd.read_sql_query('''SELECT * FROM users''', conn).to_dict(orient='index').items())).values())\n",
    "    \n",
    "    price = 0\n",
    "    if bid['time'] < ask['time']:\n",
    "        price = min(bid['price'],ask['price'])\n",
    "    else:\n",
    "        price = max(ask['price'],bid['price'])\n",
    "\n",
    "    temp = {}\n",
    "    temp['bid_id'] = bid['user_id']\n",
    "    temp['ask_id'] = ask['user_id']\n",
    "    temp['volume'] = min(bid['volume'],ask['volume'])\n",
    "    temp['price'] = price\n",
    "    temp['time'] = datetime.datetime.now()\n",
    "    temp['bid_time'] = bid['time']\n",
    "    temp['ask_time'] = ask['time']\n",
    "    temp['security_id'] = bid['security_id']\n",
    "\n",
    "    for user in users:\n",
    "        if user['user_id'] == bid['user_id']:\n",
    "            user['cash'] -= price * min(bid['volume'],ask['volume'])\n",
    "        elif user['user_id'] == ask['user_id']:\n",
    "            user['cash'] += price * min(bid['volume'],ask['volume'])\n",
    "        else:\n",
    "            pass\n",
    "    \n",
    "    users_df = pd.DataFrame(users)\n",
    "    users_df.to_sql(name='users', con=conn, if_exists='replace', index = False)\n",
    "\n",
    "    return temp"
   ]
  },
  {
   "cell_type": "code",
   "execution_count": 5,
   "metadata": {},
   "outputs": [
    {
     "data": {
      "text/plain": [
       "<sqlite3.Cursor at 0x10fa19570>"
      ]
     },
     "execution_count": 5,
     "metadata": {},
     "output_type": "execute_result"
    }
   ],
   "source": [
    "c.execute('DROP TABLE bids')\n",
    "c.execute('DROP TABLE asks')\n",
    "c.execute('DROP TABLE fills')\n",
    "c.execute('DROP TABLE users')\n",
    "c.execute('DROP TABLE markets')\n",
    "c.execute('DROP TABLE positions')\n",
    "c.execute('DROP TABLE ref_prices')\n",
    "c.execute('DROP TABLE settlement')"
   ]
  },
  {
   "cell_type": "code",
   "execution_count": 6,
   "metadata": {},
   "outputs": [
    {
     "data": {
      "text/plain": [
       "<sqlite3.Cursor at 0x10fa19570>"
      ]
     },
     "execution_count": 6,
     "metadata": {},
     "output_type": "execute_result"
    }
   ],
   "source": [
    "c.execute('''CREATE TABLE bids\n",
    "             (security_id, user_id, volume, price, time)''')\n",
    "\n",
    "c.execute('''CREATE TABLE asks\n",
    "             (security_id, user_id, volume, price, time)''')\n",
    "\n",
    "c.execute('''CREATE TABLE fills\n",
    "             (bid_id, ask_id, volume, price, time, bid_time, ask_time, security_id)''')\n",
    "\n",
    "c.execute('''CREATE TABLE users\n",
    "             (user_id, username, cash)''')\n",
    "\n",
    "c.execute('''CREATE TABLE markets\n",
    "             (security_id, market_name, market_descriptor, create_time, end_time)''')\n",
    "\n",
    "c.execute('''CREATE TABLE positions\n",
    "             (security_id, user_id, position)''')\n",
    "\n",
    "c.execute('''CREATE TABLE ref_prices\n",
    "             (security_id, ref_price)''')\n",
    "\n",
    "c.execute('''CREATE TABLE settlement\n",
    "             (security_id, settle, in_settle)''')"
   ]
  },
  {
   "cell_type": "markdown",
   "metadata": {},
   "source": [
    "# Create new users"
   ]
  },
  {
   "cell_type": "code",
   "execution_count": 7,
   "metadata": {},
   "outputs": [],
   "source": [
    "def create_user(username):\n",
    "    users = pd.read_sql_query('''SELECT * FROM users''', conn)\n",
    "    if len(users) > 0:\n",
    "        user_id = int(users.user_id.max()) + 1\n",
    "    else:\n",
    "        user_id = 0\n",
    "        \n",
    "    exec_string = 'INSERT INTO users (user_id, username, cash) values (?, ?, ?)'\n",
    "    c.execute(exec_string,\n",
    "        (user_id, username, 0))"
   ]
  },
  {
   "cell_type": "code",
   "execution_count": 8,
   "metadata": {},
   "outputs": [],
   "source": [
    "create_user('Michael')\n",
    "create_user('John')"
   ]
  },
  {
   "cell_type": "code",
   "execution_count": 9,
   "metadata": {},
   "outputs": [
    {
     "data": {
      "text/html": [
       "<div>\n",
       "<table border=\"1\" class=\"dataframe\">\n",
       "  <thead>\n",
       "    <tr style=\"text-align: right;\">\n",
       "      <th></th>\n",
       "      <th>user_id</th>\n",
       "      <th>username</th>\n",
       "      <th>cash</th>\n",
       "    </tr>\n",
       "  </thead>\n",
       "  <tbody>\n",
       "    <tr>\n",
       "      <th>0</th>\n",
       "      <td>0</td>\n",
       "      <td>Michael</td>\n",
       "      <td>0</td>\n",
       "    </tr>\n",
       "    <tr>\n",
       "      <th>1</th>\n",
       "      <td>1</td>\n",
       "      <td>John</td>\n",
       "      <td>0</td>\n",
       "    </tr>\n",
       "  </tbody>\n",
       "</table>\n",
       "</div>"
      ],
      "text/plain": [
       "   user_id username  cash\n",
       "0        0  Michael     0\n",
       "1        1     John     0"
      ]
     },
     "execution_count": 9,
     "metadata": {},
     "output_type": "execute_result"
    }
   ],
   "source": [
    "pd.read_sql_query('''SELECT * FROM users''', conn)"
   ]
  },
  {
   "cell_type": "markdown",
   "metadata": {},
   "source": [
    "# Creating new markets"
   ]
  },
  {
   "cell_type": "code",
   "execution_count": 10,
   "metadata": {},
   "outputs": [],
   "source": [
    "def create_market(market_name,market_descriptor, end_time):\n",
    "    markets = pd.read_sql_query('''SELECT * FROM markets''', conn)\n",
    "    if len(markets) > 0:\n",
    "        security_id = int(markets.security_id.max()) + 1\n",
    "    else:\n",
    "        security_id = 0\n",
    "    \n",
    "    if len(markets.loc[markets.market_name == market_name]) > 0:\n",
    "        return 'Market already exists'\n",
    "    else: \n",
    "        exec_string = 'INSERT INTO markets (security_id, market_name, market_descriptor, create_time, end_time) values (?, ?, ?, ?, ?)'\n",
    "        create_time = datetime.datetime.now()\n",
    "        c.execute(exec_string,\n",
    "            (security_id, market_name, market_descriptor, create_time, end_time))\n",
    "\n",
    "        exec_string = 'INSERT INTO settlement (security_id,settle,in_settle) values ({},NULL,NULL)'.format(security_id)\n",
    "        c.execute(exec_string)"
   ]
  },
  {
   "cell_type": "code",
   "execution_count": 11,
   "metadata": {},
   "outputs": [],
   "source": [
    "end_time = datetime.datetime(2019, 11, 17, 23, 59) #Dec 31st, 11:59 pm\n",
    "create_market('Browns win the super bowl','Binary payout - contract size $1', end_time)"
   ]
  },
  {
   "cell_type": "code",
   "execution_count": 12,
   "metadata": {},
   "outputs": [
    {
     "data": {
      "text/html": [
       "<div>\n",
       "<table border=\"1\" class=\"dataframe\">\n",
       "  <thead>\n",
       "    <tr style=\"text-align: right;\">\n",
       "      <th></th>\n",
       "      <th>security_id</th>\n",
       "      <th>market_name</th>\n",
       "      <th>market_descriptor</th>\n",
       "      <th>create_time</th>\n",
       "      <th>end_time</th>\n",
       "    </tr>\n",
       "  </thead>\n",
       "  <tbody>\n",
       "    <tr>\n",
       "      <th>0</th>\n",
       "      <td>0</td>\n",
       "      <td>Browns win the super bowl</td>\n",
       "      <td>Binary payout - contract size $1</td>\n",
       "      <td>2019-11-18 23:50:17.959237</td>\n",
       "      <td>2019-11-17 23:59:00</td>\n",
       "    </tr>\n",
       "  </tbody>\n",
       "</table>\n",
       "</div>"
      ],
      "text/plain": [
       "   security_id                market_name                 market_descriptor  \\\n",
       "0            0  Browns win the super bowl  Binary payout - contract size $1   \n",
       "\n",
       "                  create_time             end_time  \n",
       "0  2019-11-18 23:50:17.959237  2019-11-17 23:59:00  "
      ]
     },
     "execution_count": 12,
     "metadata": {},
     "output_type": "execute_result"
    }
   ],
   "source": [
    "pd.read_sql_query('''SELECT * FROM markets''', conn).sort_values('create_time')"
   ]
  },
  {
   "cell_type": "markdown",
   "metadata": {},
   "source": [
    "# Create bid"
   ]
  },
  {
   "cell_type": "code",
   "execution_count": 13,
   "metadata": {},
   "outputs": [],
   "source": [
    "def create_bid(security,user_id, volume, price):\n",
    "    \n",
    "    if user_id not in pd.read_sql_query('''SELECT * FROM users''', conn).user_id:\n",
    "        return 'User does not exist'\n",
    "    \n",
    "    if security not in pd.read_sql_query('''SELECT * FROM markets''', conn).security_id:\n",
    "        return 'Security does not exist'\n",
    "    \n",
    "    if user_id in pd.read_sql_query('''SELECT * FROM asks''', conn).user_id:\n",
    "        asks = pd.read_sql_query('''SELECT * FROM asks''', conn)\n",
    "        if price >= asks.loc[asks.user_id == user_id].price.max():\n",
    "            return 'Invalid Order - crossing own ask'\n",
    "    \n",
    "    if security in pd.read_sql_query('''SELECT * FROM settlement WHERE in_settle = 1''', conn).security_id:\n",
    "        return 'Market is closed'\n",
    "    \n",
    "    exec_string = 'INSERT INTO bids (security_id, user_id, volume, price, time) values (?, ?, ?, ?, ?)'\n",
    "    time = datetime.datetime.now()\n",
    "    c.execute(exec_string,\n",
    "        (security, user_id, volume, price, time))"
   ]
  },
  {
   "cell_type": "code",
   "execution_count": 14,
   "metadata": {},
   "outputs": [],
   "source": [
    "create_bid(0,0,10,0.5)"
   ]
  },
  {
   "cell_type": "code",
   "execution_count": 15,
   "metadata": {},
   "outputs": [
    {
     "data": {
      "text/html": [
       "<div>\n",
       "<table border=\"1\" class=\"dataframe\">\n",
       "  <thead>\n",
       "    <tr style=\"text-align: right;\">\n",
       "      <th></th>\n",
       "      <th>security_id</th>\n",
       "      <th>user_id</th>\n",
       "      <th>volume</th>\n",
       "      <th>price</th>\n",
       "      <th>time</th>\n",
       "    </tr>\n",
       "  </thead>\n",
       "  <tbody>\n",
       "    <tr>\n",
       "      <th>0</th>\n",
       "      <td>0</td>\n",
       "      <td>0</td>\n",
       "      <td>10</td>\n",
       "      <td>0.5</td>\n",
       "      <td>2019-11-18 23:50:17.992039</td>\n",
       "    </tr>\n",
       "  </tbody>\n",
       "</table>\n",
       "</div>"
      ],
      "text/plain": [
       "   security_id  user_id  volume  price                        time\n",
       "0            0        0      10    0.5  2019-11-18 23:50:17.992039"
      ]
     },
     "execution_count": 15,
     "metadata": {},
     "output_type": "execute_result"
    }
   ],
   "source": [
    "pd.read_sql_query('''SELECT * FROM bids''', conn)"
   ]
  },
  {
   "cell_type": "markdown",
   "metadata": {},
   "source": [
    "# Create Ask"
   ]
  },
  {
   "cell_type": "code",
   "execution_count": 16,
   "metadata": {},
   "outputs": [],
   "source": [
    "def create_ask(security,user_id, volume, price):\n",
    "    \n",
    "    if user_id not in pd.read_sql_query('''SELECT * FROM users''', conn).user_id:\n",
    "        return 'User does not exist'\n",
    "    \n",
    "    if security not in pd.read_sql_query('''SELECT * FROM markets''', conn).security_id:\n",
    "        return 'Security does not exist'\n",
    "    \n",
    "    if user_id in pd.read_sql_query('''SELECT * FROM bids''', conn).user_id:\n",
    "        bids = pd.read_sql_query('''SELECT * FROM bids''', conn)\n",
    "        if price <= bids.loc[bids.user_id == user_id].price.max():\n",
    "            return 'Invalid Order - crossing own bid'\n",
    "        \n",
    "    if security in pd.read_sql_query('''SELECT * FROM settlement WHERE in_settle = 1''', conn).security_id:\n",
    "        return 'Market is closed'\n",
    "\n",
    "    exec_string = 'INSERT INTO asks (security_id, user_id, volume, price, time) values (?, ?, ?, ?, ?)'\n",
    "    time = datetime.datetime.now()\n",
    "    c.execute(exec_string,\n",
    "        (security, user_id, volume, price, time))"
   ]
  },
  {
   "cell_type": "code",
   "execution_count": 17,
   "metadata": {},
   "outputs": [],
   "source": [
    "create_ask(0,1,10,0.5)"
   ]
  },
  {
   "cell_type": "code",
   "execution_count": 18,
   "metadata": {},
   "outputs": [
    {
     "data": {
      "text/html": [
       "<div>\n",
       "<table border=\"1\" class=\"dataframe\">\n",
       "  <thead>\n",
       "    <tr style=\"text-align: right;\">\n",
       "      <th></th>\n",
       "      <th>security_id</th>\n",
       "      <th>user_id</th>\n",
       "      <th>volume</th>\n",
       "      <th>price</th>\n",
       "      <th>time</th>\n",
       "    </tr>\n",
       "  </thead>\n",
       "  <tbody>\n",
       "    <tr>\n",
       "      <th>0</th>\n",
       "      <td>0</td>\n",
       "      <td>1</td>\n",
       "      <td>10</td>\n",
       "      <td>0.5</td>\n",
       "      <td>2019-11-18 23:50:18.029965</td>\n",
       "    </tr>\n",
       "  </tbody>\n",
       "</table>\n",
       "</div>"
      ],
      "text/plain": [
       "   security_id  user_id  volume  price                        time\n",
       "0            0        1      10    0.5  2019-11-18 23:50:18.029965"
      ]
     },
     "execution_count": 18,
     "metadata": {},
     "output_type": "execute_result"
    }
   ],
   "source": [
    "pd.read_sql_query('''SELECT * FROM asks''', conn)"
   ]
  },
  {
   "cell_type": "markdown",
   "metadata": {},
   "source": [
    "# Handling crossing own market"
   ]
  },
  {
   "cell_type": "code",
   "execution_count": 19,
   "metadata": {},
   "outputs": [
    {
     "data": {
      "text/plain": [
       "'Invalid Order - crossing own bid'"
      ]
     },
     "execution_count": 19,
     "metadata": {},
     "output_type": "execute_result"
    }
   ],
   "source": [
    "create_ask(0,0,10,0.5)"
   ]
  },
  {
   "cell_type": "markdown",
   "metadata": {},
   "source": [
    "# Other faulty orders"
   ]
  },
  {
   "cell_type": "code",
   "execution_count": 20,
   "metadata": {},
   "outputs": [
    {
     "data": {
      "text/plain": [
       "'Security does not exist'"
      ]
     },
     "execution_count": 20,
     "metadata": {},
     "output_type": "execute_result"
    }
   ],
   "source": [
    "create_bid(1,0,10,0.5)"
   ]
  },
  {
   "cell_type": "code",
   "execution_count": 21,
   "metadata": {},
   "outputs": [
    {
     "data": {
      "text/plain": [
       "'User does not exist'"
      ]
     },
     "execution_count": 21,
     "metadata": {},
     "output_type": "execute_result"
    }
   ],
   "source": [
    "create_bid(0,2,10,0.5)"
   ]
  },
  {
   "cell_type": "markdown",
   "metadata": {},
   "source": [
    "# Run orderflow"
   ]
  },
  {
   "cell_type": "code",
   "execution_count": 22,
   "metadata": {},
   "outputs": [],
   "source": [
    "def order_flow():\n",
    "    \n",
    "    bids = list(OrderedDict(sorted(pd.read_sql_query('''SELECT * FROM bids''', conn).sort_values('time').to_dict(orient='index').items())).values())\n",
    "    asks = list(OrderedDict(sorted(pd.read_sql_query('''SELECT * FROM asks''', conn).sort_values('time').to_dict(orient='index').items())).values())\n",
    "\n",
    "    for bid in bids:\n",
    "        bid_id = bid['user_id']\n",
    "        bid_volume = bid['volume']\n",
    "        bid_price = bid['price']\n",
    "        bid_time = bid['time']\n",
    "        for ask in asks:\n",
    "            ask_id = ask['user_id']\n",
    "            ask_volume = ask['volume']\n",
    "            ask_price = ask['price']\n",
    "            ask_time = ask['time']\n",
    "\n",
    "            if bid_id != ask_id and bid['security_id'] == ask['security_id']:\n",
    "                if ask_price <= bid_price:\n",
    "                    exec_string = 'INSERT INTO fills (bid_id, ask_id, volume, price, time, bid_time, ask_time, security_id) values (?, ?, ?, ?, ?, ?, ?, ?)'\n",
    "                    temp = create_filled(bid, ask)\n",
    "                    c.execute(exec_string,\n",
    "                        (temp['bid_id'], temp['ask_id'], temp['volume'], temp['price'], temp['time'], temp['bid_time'], temp['ask_time'], temp['security_id']))\n",
    "                    sub = min(bid['volume'],ask['volume'])\n",
    "                    bid['volume'] -= sub\n",
    "                    ask['volume'] -= sub\n",
    "\n",
    "                    bids = list(filter(lambda i: i['volume'] != 0, bids)) \n",
    "                    asks = list(filter(lambda i: i['volume'] != 0, asks)) \n",
    "                    \n",
    "            # to do, prevent crossing bids/asks from same user\n",
    "\n",
    "    bids = list(filter(lambda i: i['volume'] != 0, bids)) \n",
    "    asks = list(filter(lambda i: i['volume'] != 0, asks))\n",
    "    \n",
    "    if bids == []:\n",
    "        c.execute('DELETE FROM bids')\n",
    "    else:\n",
    "        bids_df = pd.DataFrame(bids)\n",
    "        bids_df.to_sql(name='bids', con=conn, if_exists='replace', index = False)\n",
    "    \n",
    "    if asks == []:\n",
    "        c.execute('DELETE FROM asks')\n",
    "    else:\n",
    "        asks_df = pd.DataFrame(asks)\n",
    "        asks_df.to_sql(name='asks', con=conn, if_exists='replace', index = False)        "
   ]
  },
  {
   "cell_type": "code",
   "execution_count": 23,
   "metadata": {},
   "outputs": [],
   "source": [
    "order_flow() #this should actually be put at the end of both the bid and ask functions, but is here to illustrate use"
   ]
  },
  {
   "cell_type": "code",
   "execution_count": 24,
   "metadata": {},
   "outputs": [
    {
     "data": {
      "text/html": [
       "<div>\n",
       "<table border=\"1\" class=\"dataframe\">\n",
       "  <thead>\n",
       "    <tr style=\"text-align: right;\">\n",
       "      <th></th>\n",
       "      <th>security_id</th>\n",
       "      <th>user_id</th>\n",
       "      <th>volume</th>\n",
       "      <th>price</th>\n",
       "      <th>time</th>\n",
       "    </tr>\n",
       "  </thead>\n",
       "  <tbody>\n",
       "  </tbody>\n",
       "</table>\n",
       "</div>"
      ],
      "text/plain": [
       "Empty DataFrame\n",
       "Columns: [security_id, user_id, volume, price, time]\n",
       "Index: []"
      ]
     },
     "execution_count": 24,
     "metadata": {},
     "output_type": "execute_result"
    }
   ],
   "source": [
    "pd.read_sql_query('''SELECT * FROM bids''', conn)"
   ]
  },
  {
   "cell_type": "code",
   "execution_count": 25,
   "metadata": {},
   "outputs": [
    {
     "data": {
      "text/html": [
       "<div>\n",
       "<table border=\"1\" class=\"dataframe\">\n",
       "  <thead>\n",
       "    <tr style=\"text-align: right;\">\n",
       "      <th></th>\n",
       "      <th>security_id</th>\n",
       "      <th>user_id</th>\n",
       "      <th>volume</th>\n",
       "      <th>price</th>\n",
       "      <th>time</th>\n",
       "    </tr>\n",
       "  </thead>\n",
       "  <tbody>\n",
       "  </tbody>\n",
       "</table>\n",
       "</div>"
      ],
      "text/plain": [
       "Empty DataFrame\n",
       "Columns: [security_id, user_id, volume, price, time]\n",
       "Index: []"
      ]
     },
     "execution_count": 25,
     "metadata": {},
     "output_type": "execute_result"
    }
   ],
   "source": [
    "pd.read_sql_query('''SELECT * FROM asks''', conn)"
   ]
  },
  {
   "cell_type": "code",
   "execution_count": 26,
   "metadata": {},
   "outputs": [
    {
     "data": {
      "text/html": [
       "<div>\n",
       "<table border=\"1\" class=\"dataframe\">\n",
       "  <thead>\n",
       "    <tr style=\"text-align: right;\">\n",
       "      <th></th>\n",
       "      <th>bid_id</th>\n",
       "      <th>ask_id</th>\n",
       "      <th>volume</th>\n",
       "      <th>price</th>\n",
       "      <th>time</th>\n",
       "      <th>bid_time</th>\n",
       "      <th>ask_time</th>\n",
       "      <th>security_id</th>\n",
       "    </tr>\n",
       "  </thead>\n",
       "  <tbody>\n",
       "    <tr>\n",
       "      <th>0</th>\n",
       "      <td>0</td>\n",
       "      <td>1</td>\n",
       "      <td>10</td>\n",
       "      <td>0.5</td>\n",
       "      <td>2019-11-18 23:50:18.114086</td>\n",
       "      <td>2019-11-18 23:50:17.992039</td>\n",
       "      <td>2019-11-18 23:50:18.029965</td>\n",
       "      <td>0</td>\n",
       "    </tr>\n",
       "  </tbody>\n",
       "</table>\n",
       "</div>"
      ],
      "text/plain": [
       "   bid_id  ask_id  volume  price                        time  \\\n",
       "0       0       1      10    0.5  2019-11-18 23:50:18.114086   \n",
       "\n",
       "                     bid_time                    ask_time  security_id  \n",
       "0  2019-11-18 23:50:17.992039  2019-11-18 23:50:18.029965            0  "
      ]
     },
     "execution_count": 26,
     "metadata": {},
     "output_type": "execute_result"
    }
   ],
   "source": [
    "pd.read_sql_query('''SELECT * FROM fills''', conn)"
   ]
  },
  {
   "cell_type": "code",
   "execution_count": 27,
   "metadata": {},
   "outputs": [
    {
     "data": {
      "text/html": [
       "<div>\n",
       "<table border=\"1\" class=\"dataframe\">\n",
       "  <thead>\n",
       "    <tr style=\"text-align: right;\">\n",
       "      <th></th>\n",
       "      <th>cash</th>\n",
       "      <th>user_id</th>\n",
       "      <th>username</th>\n",
       "    </tr>\n",
       "  </thead>\n",
       "  <tbody>\n",
       "    <tr>\n",
       "      <th>0</th>\n",
       "      <td>-5.0</td>\n",
       "      <td>0</td>\n",
       "      <td>Michael</td>\n",
       "    </tr>\n",
       "    <tr>\n",
       "      <th>1</th>\n",
       "      <td>5.0</td>\n",
       "      <td>1</td>\n",
       "      <td>John</td>\n",
       "    </tr>\n",
       "  </tbody>\n",
       "</table>\n",
       "</div>"
      ],
      "text/plain": [
       "   cash  user_id username\n",
       "0  -5.0        0  Michael\n",
       "1   5.0        1     John"
      ]
     },
     "execution_count": 27,
     "metadata": {},
     "output_type": "execute_result"
    }
   ],
   "source": [
    "pd.read_sql_query('''SELECT * FROM users''', conn)"
   ]
  },
  {
   "cell_type": "markdown",
   "metadata": {},
   "source": [
    "# Get positions"
   ]
  },
  {
   "cell_type": "code",
   "execution_count": 28,
   "metadata": {},
   "outputs": [],
   "source": [
    "def update_positions():\n",
    "    fills = list(OrderedDict(sorted(pd.read_sql_query('''SELECT * FROM fills''', conn).to_dict(orient='index').items())).values())\n",
    "    positions = []\n",
    "    for fill in fills:\n",
    "        temp_ask = {}\n",
    "        temp_ask['security_id'] = fill['security_id']\n",
    "        temp_ask['user_id'] = fill['ask_id']\n",
    "        temp_ask['position'] = -fill['volume']\n",
    "\n",
    "        temp_bid = {}\n",
    "        temp_bid['security_id'] = fill['security_id']\n",
    "        temp_bid['user_id'] = fill['bid_id']\n",
    "        temp_bid['position'] = fill['volume']\n",
    "\n",
    "        positions.append(temp_bid)\n",
    "        positions.append(temp_ask)\n",
    "    \n",
    "    if positions == []:\n",
    "        return\n",
    "    else:\n",
    "        positions_df = pd.DataFrame(positions)\n",
    "        add_list = []\n",
    "        for name, group in positions_df.groupby(['security_id','user_id']):\n",
    "            temp = {}\n",
    "            security_id = name[0]\n",
    "            user_id = name[1]\n",
    "            position = group.position.sum()\n",
    "            temp['security_id'] = security_id\n",
    "            temp['user_id'] = user_id\n",
    "            temp['position'] = position\n",
    "            add_list.append(temp)\n",
    "\n",
    "        pd.DataFrame(add_list).to_sql(name='positions', con=conn, if_exists='replace', index = False)   "
   ]
  },
  {
   "cell_type": "code",
   "execution_count": 29,
   "metadata": {},
   "outputs": [],
   "source": [
    "update_positions()"
   ]
  },
  {
   "cell_type": "code",
   "execution_count": 30,
   "metadata": {},
   "outputs": [
    {
     "data": {
      "text/html": [
       "<div>\n",
       "<table border=\"1\" class=\"dataframe\">\n",
       "  <thead>\n",
       "    <tr style=\"text-align: right;\">\n",
       "      <th></th>\n",
       "      <th>position</th>\n",
       "      <th>security_id</th>\n",
       "      <th>user_id</th>\n",
       "    </tr>\n",
       "  </thead>\n",
       "  <tbody>\n",
       "    <tr>\n",
       "      <th>0</th>\n",
       "      <td>10</td>\n",
       "      <td>0</td>\n",
       "      <td>0</td>\n",
       "    </tr>\n",
       "    <tr>\n",
       "      <th>1</th>\n",
       "      <td>-10</td>\n",
       "      <td>0</td>\n",
       "      <td>1</td>\n",
       "    </tr>\n",
       "  </tbody>\n",
       "</table>\n",
       "</div>"
      ],
      "text/plain": [
       "   position  security_id  user_id\n",
       "0        10            0        0\n",
       "1       -10            0        1"
      ]
     },
     "execution_count": 30,
     "metadata": {},
     "output_type": "execute_result"
    }
   ],
   "source": [
    "pd.read_sql_query('''SELECT * FROM positions''', conn)"
   ]
  },
  {
   "cell_type": "markdown",
   "metadata": {},
   "source": [
    "# List of markets print out"
   ]
  },
  {
   "cell_type": "code",
   "execution_count": 31,
   "metadata": {},
   "outputs": [],
   "source": [
    "def list_of_markets():\n",
    "    \n",
    "    list_of_marks = []\n",
    "    \n",
    "    fills_df = pd.read_sql_query('''SELECT * FROM fills''', conn)\n",
    "    bids_df = pd.read_sql_query('''SELECT * FROM bids''', conn)\n",
    "    asks_df = pd.read_sql_query('''SELECT * FROM asks''', conn)\n",
    "\n",
    "    for index, row in pd.read_sql_query('''SELECT * FROM markets''', conn).iterrows():\n",
    "\n",
    "        sendstr = ''\n",
    "\n",
    "        if row.security_id in fills_df.security_id:\n",
    "            sendstr += row.market_name + ' - Last traded price: ' + str(fills_df.sort_values('time').iloc[0].price)\n",
    "        else:\n",
    "            sendstr += row.market_name + ' - not traded yet'\n",
    "\n",
    "        if row.security_id in bids_df.security_id:\n",
    "            sendstr += ', Best bid: ' + str(bids_df.loc[bids_df.security_id == row.security_id].price.max())\n",
    "        else:\n",
    "            sendstr += ', No current bids'\n",
    "\n",
    "        if row.security_id in asks_df.security_id:\n",
    "            sendstr += ', Best ask: ' + str(asks_df.loc[asks_df.security_id == row.security_id].price.min())\n",
    "        else:\n",
    "            sendstr += ', No current asks'\n",
    "            \n",
    "        list_of_marks.append(sendstr)\n",
    "\n",
    "    return list_of_marks"
   ]
  },
  {
   "cell_type": "code",
   "execution_count": 32,
   "metadata": {},
   "outputs": [
    {
     "data": {
      "text/plain": [
       "['Browns win the super bowl - Last traded price: 0.5, No current bids, No current asks']"
      ]
     },
     "execution_count": 32,
     "metadata": {},
     "output_type": "execute_result"
    }
   ],
   "source": [
    "list_of_markets()"
   ]
  },
  {
   "cell_type": "markdown",
   "metadata": {},
   "source": [
    "# User summary"
   ]
  },
  {
   "cell_type": "code",
   "execution_count": 33,
   "metadata": {},
   "outputs": [],
   "source": [
    "def get_user_info(user_id):\n",
    "    sendstr = 'Overall positions\\n'\n",
    "    user = pd.read_sql_query('''SELECT * FROM users WHERE user_id = {}'''.format(user_id), conn)\n",
    "    sendstr += user.iloc[0].username + '\\n'\n",
    "    sendstr += 'Cash: ' + str(user.iloc[0].cash) + '\\n'\n",
    "    \n",
    "    positions = pd.read_sql_query('''SELECT * \n",
    "                                     FROM positions \n",
    "                                     JOIN markets \n",
    "                                     ON positions.security_id = markets.security_id\n",
    "                                     WHERE user_id = {}'''.format(user_id), conn)\n",
    "    \n",
    "    for index, row in positions.iterrows():\n",
    "        sendstr += row.market_name + ': ' + str(row.position) + ' contracts\\n\\n'\n",
    "        \n",
    "    sendstr += 'Open orders\\n'\n",
    "    bids = pd.read_sql_query('''SELECT * \n",
    "                                 FROM bids \n",
    "                                 JOIN markets \n",
    "                                 ON bids.security_id = markets.security_id\n",
    "                                 WHERE user_id = {}'''.format(user_id), conn)\n",
    "        \n",
    "    asks = pd.read_sql_query('''SELECT * \n",
    "                             FROM asks \n",
    "                             JOIN markets \n",
    "                             ON asks.security_id = markets.security_id\n",
    "                             WHERE user_id = {}'''.format(user_id), conn)\n",
    "    \n",
    "    if len(bids) == 0:\n",
    "        sendstr += 'No outstanding bids\\n'\n",
    "    else:\n",
    "        sendstr += 'Outstanding bids\\n'\n",
    "        for index, row in bids.iterrows():\n",
    "            sendstr += row.market_name + ' - ' + str(row.volume) + ' contracts for ' + str(row.price) + ' placed at: ' + str(row.time) + '\\n'\n",
    "    \n",
    "    sendstr += '\\n'\n",
    "    \n",
    "    if len(asks) == 0:\n",
    "        sendstr += 'No outstanding asks\\n'\n",
    "    else:\n",
    "        sendstr += 'Outstanding asks\\n'\n",
    "        for index, row in asks.iterrows():\n",
    "            sendstr += row.market_name + ': ' + str(row.volume) + ' contracts for: ' + str(row.price) +'\\n'\n",
    "        \n",
    "    return sendstr"
   ]
  },
  {
   "cell_type": "code",
   "execution_count": 34,
   "metadata": {},
   "outputs": [
    {
     "name": "stdout",
     "output_type": "stream",
     "text": [
      "Overall positions\n",
      "Michael\n",
      "Cash: -5.0\n",
      "Browns win the super bowl: 10 contracts\n",
      "\n",
      "Open orders\n",
      "No outstanding bids\n",
      "\n",
      "No outstanding asks\n",
      "\n"
     ]
    }
   ],
   "source": [
    "print(get_user_info(0))"
   ]
  },
  {
   "cell_type": "code",
   "execution_count": 35,
   "metadata": {},
   "outputs": [],
   "source": [
    "create_bid(0,0,10,0.4)"
   ]
  },
  {
   "cell_type": "code",
   "execution_count": 36,
   "metadata": {},
   "outputs": [
    {
     "name": "stdout",
     "output_type": "stream",
     "text": [
      "Overall positions\n",
      "Michael\n",
      "Cash: -5.0\n",
      "Browns win the super bowl: 10 contracts\n",
      "\n",
      "Open orders\n",
      "Outstanding bids\n",
      "Browns win the super bowl - 10 contracts for 0.4 placed at: 2019-11-18 23:50:18.280914\n",
      "\n",
      "No outstanding asks\n",
      "\n"
     ]
    }
   ],
   "source": [
    "print(get_user_info(0))"
   ]
  },
  {
   "cell_type": "markdown",
   "metadata": {},
   "source": [
    "# Settlement"
   ]
  },
  {
   "cell_type": "code",
   "execution_count": 37,
   "metadata": {},
   "outputs": [
    {
     "data": {
      "text/html": [
       "<div>\n",
       "<table border=\"1\" class=\"dataframe\">\n",
       "  <thead>\n",
       "    <tr style=\"text-align: right;\">\n",
       "      <th></th>\n",
       "      <th>security_id</th>\n",
       "      <th>market_name</th>\n",
       "      <th>market_descriptor</th>\n",
       "      <th>create_time</th>\n",
       "      <th>end_time</th>\n",
       "    </tr>\n",
       "  </thead>\n",
       "  <tbody>\n",
       "    <tr>\n",
       "      <th>0</th>\n",
       "      <td>0</td>\n",
       "      <td>Browns win the super bowl</td>\n",
       "      <td>Binary payout - contract size $1</td>\n",
       "      <td>2019-11-18 23:50:17.959237</td>\n",
       "      <td>2019-11-17 23:59:00</td>\n",
       "    </tr>\n",
       "  </tbody>\n",
       "</table>\n",
       "</div>"
      ],
      "text/plain": [
       "   security_id                market_name                 market_descriptor  \\\n",
       "0            0  Browns win the super bowl  Binary payout - contract size $1   \n",
       "\n",
       "                  create_time             end_time  \n",
       "0  2019-11-18 23:50:17.959237  2019-11-17 23:59:00  "
      ]
     },
     "metadata": {},
     "output_type": "display_data"
    },
    {
     "data": {
      "text/html": [
       "<div>\n",
       "<table border=\"1\" class=\"dataframe\">\n",
       "  <thead>\n",
       "    <tr style=\"text-align: right;\">\n",
       "      <th></th>\n",
       "      <th>position</th>\n",
       "      <th>security_id</th>\n",
       "      <th>user_id</th>\n",
       "    </tr>\n",
       "  </thead>\n",
       "  <tbody>\n",
       "    <tr>\n",
       "      <th>0</th>\n",
       "      <td>10</td>\n",
       "      <td>0</td>\n",
       "      <td>0</td>\n",
       "    </tr>\n",
       "    <tr>\n",
       "      <th>1</th>\n",
       "      <td>-10</td>\n",
       "      <td>0</td>\n",
       "      <td>1</td>\n",
       "    </tr>\n",
       "  </tbody>\n",
       "</table>\n",
       "</div>"
      ],
      "text/plain": [
       "   position  security_id  user_id\n",
       "0        10            0        0\n",
       "1       -10            0        1"
      ]
     },
     "metadata": {},
     "output_type": "display_data"
    },
    {
     "data": {
      "text/html": [
       "<div>\n",
       "<table border=\"1\" class=\"dataframe\">\n",
       "  <thead>\n",
       "    <tr style=\"text-align: right;\">\n",
       "      <th></th>\n",
       "      <th>security_id</th>\n",
       "      <th>settle</th>\n",
       "      <th>in_settle</th>\n",
       "    </tr>\n",
       "  </thead>\n",
       "  <tbody>\n",
       "    <tr>\n",
       "      <th>0</th>\n",
       "      <td>0</td>\n",
       "      <td>None</td>\n",
       "      <td>None</td>\n",
       "    </tr>\n",
       "  </tbody>\n",
       "</table>\n",
       "</div>"
      ],
      "text/plain": [
       "   security_id settle in_settle\n",
       "0            0   None      None"
      ]
     },
     "metadata": {},
     "output_type": "display_data"
    },
    {
     "data": {
      "text/html": [
       "<div>\n",
       "<table border=\"1\" class=\"dataframe\">\n",
       "  <thead>\n",
       "    <tr style=\"text-align: right;\">\n",
       "      <th></th>\n",
       "      <th>security_id</th>\n",
       "      <th>user_id</th>\n",
       "      <th>volume</th>\n",
       "      <th>price</th>\n",
       "      <th>time</th>\n",
       "    </tr>\n",
       "  </thead>\n",
       "  <tbody>\n",
       "    <tr>\n",
       "      <th>0</th>\n",
       "      <td>0</td>\n",
       "      <td>0</td>\n",
       "      <td>10</td>\n",
       "      <td>0.4</td>\n",
       "      <td>2019-11-18 23:50:18.280914</td>\n",
       "    </tr>\n",
       "  </tbody>\n",
       "</table>\n",
       "</div>"
      ],
      "text/plain": [
       "   security_id  user_id  volume  price                        time\n",
       "0            0        0      10    0.4  2019-11-18 23:50:18.280914"
      ]
     },
     "metadata": {},
     "output_type": "display_data"
    },
    {
     "data": {
      "text/html": [
       "<div>\n",
       "<table border=\"1\" class=\"dataframe\">\n",
       "  <thead>\n",
       "    <tr style=\"text-align: right;\">\n",
       "      <th></th>\n",
       "      <th>security_id</th>\n",
       "      <th>user_id</th>\n",
       "      <th>volume</th>\n",
       "      <th>price</th>\n",
       "      <th>time</th>\n",
       "    </tr>\n",
       "  </thead>\n",
       "  <tbody>\n",
       "  </tbody>\n",
       "</table>\n",
       "</div>"
      ],
      "text/plain": [
       "Empty DataFrame\n",
       "Columns: [security_id, user_id, volume, price, time]\n",
       "Index: []"
      ]
     },
     "metadata": {},
     "output_type": "display_data"
    },
    {
     "data": {
      "text/html": [
       "<div>\n",
       "<table border=\"1\" class=\"dataframe\">\n",
       "  <thead>\n",
       "    <tr style=\"text-align: right;\">\n",
       "      <th></th>\n",
       "      <th>cash</th>\n",
       "      <th>user_id</th>\n",
       "      <th>username</th>\n",
       "    </tr>\n",
       "  </thead>\n",
       "  <tbody>\n",
       "    <tr>\n",
       "      <th>0</th>\n",
       "      <td>-5.0</td>\n",
       "      <td>0</td>\n",
       "      <td>Michael</td>\n",
       "    </tr>\n",
       "    <tr>\n",
       "      <th>1</th>\n",
       "      <td>5.0</td>\n",
       "      <td>1</td>\n",
       "      <td>John</td>\n",
       "    </tr>\n",
       "  </tbody>\n",
       "</table>\n",
       "</div>"
      ],
      "text/plain": [
       "   cash  user_id username\n",
       "0  -5.0        0  Michael\n",
       "1   5.0        1     John"
      ]
     },
     "metadata": {},
     "output_type": "display_data"
    },
    {
     "data": {
      "text/html": [
       "<div>\n",
       "<table border=\"1\" class=\"dataframe\">\n",
       "  <thead>\n",
       "    <tr style=\"text-align: right;\">\n",
       "      <th></th>\n",
       "      <th>bid_id</th>\n",
       "      <th>ask_id</th>\n",
       "      <th>volume</th>\n",
       "      <th>price</th>\n",
       "      <th>time</th>\n",
       "      <th>bid_time</th>\n",
       "      <th>ask_time</th>\n",
       "      <th>security_id</th>\n",
       "    </tr>\n",
       "  </thead>\n",
       "  <tbody>\n",
       "    <tr>\n",
       "      <th>0</th>\n",
       "      <td>0</td>\n",
       "      <td>1</td>\n",
       "      <td>10</td>\n",
       "      <td>0.5</td>\n",
       "      <td>2019-11-18 23:50:18.114086</td>\n",
       "      <td>2019-11-18 23:50:17.992039</td>\n",
       "      <td>2019-11-18 23:50:18.029965</td>\n",
       "      <td>0</td>\n",
       "    </tr>\n",
       "  </tbody>\n",
       "</table>\n",
       "</div>"
      ],
      "text/plain": [
       "   bid_id  ask_id  volume  price                        time  \\\n",
       "0       0       1      10    0.5  2019-11-18 23:50:18.114086   \n",
       "\n",
       "                     bid_time                    ask_time  security_id  \n",
       "0  2019-11-18 23:50:17.992039  2019-11-18 23:50:18.029965            0  "
      ]
     },
     "metadata": {},
     "output_type": "display_data"
    }
   ],
   "source": [
    "display(pd.read_sql_query('''SELECT * FROM markets''', conn))\n",
    "display(pd.read_sql_query('''SELECT * FROM positions''', conn))\n",
    "display(pd.read_sql_query('''SELECT * FROM settlement''', conn))\n",
    "display(pd.read_sql_query('''SELECT * FROM bids''', conn))\n",
    "display(pd.read_sql_query('''SELECT * FROM asks''', conn))\n",
    "display(pd.read_sql_query('''SELECT * FROM users''', conn))\n",
    "display(pd.read_sql_query('''SELECT * FROM fills''', conn))"
   ]
  },
  {
   "cell_type": "code",
   "execution_count": 38,
   "metadata": {},
   "outputs": [],
   "source": [
    "def set_settle(security_id,settle):\n",
    "    \n",
    "    close_markets()\n",
    "    \n",
    "    execute = 'SELECT * FROM settlement WHERE security_id = {}'.format(security_id)\n",
    "    temp_df = pd.read_sql_query(execute, conn)\n",
    "    if len(temp_df.loc[temp_df.in_settle == 1]) == 0:\n",
    "        return 'Market not closed'\n",
    "    else:\n",
    "        execute = 'UPDATE settlement SET settle = {} WHERE security_id = {}'.format(settle,security_id)\n",
    "        c.execute(execute)\n",
    "\n",
    "        pos = pd.read_sql_query('''SELECT * FROM positions JOIN settlement ON positions.security_id = settlement.security_id''', conn)\n",
    "        for index, row in pos.iterrows():\n",
    "            if row.in_settle == 1:\n",
    "                execute = 'UPDATE users SET cash = cash + {} * {} WHERE user_id = {}'.format(row.position,row.settle,row.user_id)\n",
    "                c.execute(execute)\n",
    "\n",
    "        execute = 'DELETE FROM positions WHERE security_id = {}'.format(security_id)\n",
    "        c.execute(execute)"
   ]
  },
  {
   "cell_type": "code",
   "execution_count": 39,
   "metadata": {},
   "outputs": [],
   "source": [
    "def close_markets():\n",
    "    for index, row in pd.read_sql_query('''SELECT * FROM markets''', conn).iterrows():\n",
    "        if datetime.datetime.now() >= datetime.datetime.strptime(row.end_time,'%Y-%m-%d %H:%M:%S'):\n",
    "            execute = 'UPDATE settlement SET in_settle = 1 WHERE security_id = {}'.format(row.security_id)\n",
    "            c.execute(execute)\n",
    "            execute = 'DELETE FROM bids WHERE security_id = {}'.format(row.security_id)\n",
    "            c.execute(execute)\n",
    "            execute = 'DELETE FROM asks WHERE security_id = {}'.format(row.security_id)\n",
    "            c.execute(execute) "
   ]
  },
  {
   "cell_type": "code",
   "execution_count": 40,
   "metadata": {},
   "outputs": [],
   "source": [
    "set_settle(0,1)"
   ]
  },
  {
   "cell_type": "code",
   "execution_count": 41,
   "metadata": {},
   "outputs": [
    {
     "data": {
      "text/html": [
       "<div>\n",
       "<table border=\"1\" class=\"dataframe\">\n",
       "  <thead>\n",
       "    <tr style=\"text-align: right;\">\n",
       "      <th></th>\n",
       "      <th>security_id</th>\n",
       "      <th>market_name</th>\n",
       "      <th>market_descriptor</th>\n",
       "      <th>create_time</th>\n",
       "      <th>end_time</th>\n",
       "    </tr>\n",
       "  </thead>\n",
       "  <tbody>\n",
       "    <tr>\n",
       "      <th>0</th>\n",
       "      <td>0</td>\n",
       "      <td>Browns win the super bowl</td>\n",
       "      <td>Binary payout - contract size $1</td>\n",
       "      <td>2019-11-18 23:50:17.959237</td>\n",
       "      <td>2019-11-17 23:59:00</td>\n",
       "    </tr>\n",
       "  </tbody>\n",
       "</table>\n",
       "</div>"
      ],
      "text/plain": [
       "   security_id                market_name                 market_descriptor  \\\n",
       "0            0  Browns win the super bowl  Binary payout - contract size $1   \n",
       "\n",
       "                  create_time             end_time  \n",
       "0  2019-11-18 23:50:17.959237  2019-11-17 23:59:00  "
      ]
     },
     "metadata": {},
     "output_type": "display_data"
    },
    {
     "data": {
      "text/html": [
       "<div>\n",
       "<table border=\"1\" class=\"dataframe\">\n",
       "  <thead>\n",
       "    <tr style=\"text-align: right;\">\n",
       "      <th></th>\n",
       "      <th>position</th>\n",
       "      <th>security_id</th>\n",
       "      <th>user_id</th>\n",
       "    </tr>\n",
       "  </thead>\n",
       "  <tbody>\n",
       "  </tbody>\n",
       "</table>\n",
       "</div>"
      ],
      "text/plain": [
       "Empty DataFrame\n",
       "Columns: [position, security_id, user_id]\n",
       "Index: []"
      ]
     },
     "metadata": {},
     "output_type": "display_data"
    },
    {
     "data": {
      "text/html": [
       "<div>\n",
       "<table border=\"1\" class=\"dataframe\">\n",
       "  <thead>\n",
       "    <tr style=\"text-align: right;\">\n",
       "      <th></th>\n",
       "      <th>security_id</th>\n",
       "      <th>settle</th>\n",
       "      <th>in_settle</th>\n",
       "    </tr>\n",
       "  </thead>\n",
       "  <tbody>\n",
       "    <tr>\n",
       "      <th>0</th>\n",
       "      <td>0</td>\n",
       "      <td>1</td>\n",
       "      <td>1</td>\n",
       "    </tr>\n",
       "  </tbody>\n",
       "</table>\n",
       "</div>"
      ],
      "text/plain": [
       "   security_id  settle  in_settle\n",
       "0            0       1          1"
      ]
     },
     "metadata": {},
     "output_type": "display_data"
    },
    {
     "data": {
      "text/html": [
       "<div>\n",
       "<table border=\"1\" class=\"dataframe\">\n",
       "  <thead>\n",
       "    <tr style=\"text-align: right;\">\n",
       "      <th></th>\n",
       "      <th>security_id</th>\n",
       "      <th>user_id</th>\n",
       "      <th>volume</th>\n",
       "      <th>price</th>\n",
       "      <th>time</th>\n",
       "    </tr>\n",
       "  </thead>\n",
       "  <tbody>\n",
       "  </tbody>\n",
       "</table>\n",
       "</div>"
      ],
      "text/plain": [
       "Empty DataFrame\n",
       "Columns: [security_id, user_id, volume, price, time]\n",
       "Index: []"
      ]
     },
     "metadata": {},
     "output_type": "display_data"
    },
    {
     "data": {
      "text/html": [
       "<div>\n",
       "<table border=\"1\" class=\"dataframe\">\n",
       "  <thead>\n",
       "    <tr style=\"text-align: right;\">\n",
       "      <th></th>\n",
       "      <th>security_id</th>\n",
       "      <th>user_id</th>\n",
       "      <th>volume</th>\n",
       "      <th>price</th>\n",
       "      <th>time</th>\n",
       "    </tr>\n",
       "  </thead>\n",
       "  <tbody>\n",
       "  </tbody>\n",
       "</table>\n",
       "</div>"
      ],
      "text/plain": [
       "Empty DataFrame\n",
       "Columns: [security_id, user_id, volume, price, time]\n",
       "Index: []"
      ]
     },
     "metadata": {},
     "output_type": "display_data"
    },
    {
     "data": {
      "text/html": [
       "<div>\n",
       "<table border=\"1\" class=\"dataframe\">\n",
       "  <thead>\n",
       "    <tr style=\"text-align: right;\">\n",
       "      <th></th>\n",
       "      <th>cash</th>\n",
       "      <th>user_id</th>\n",
       "      <th>username</th>\n",
       "    </tr>\n",
       "  </thead>\n",
       "  <tbody>\n",
       "    <tr>\n",
       "      <th>0</th>\n",
       "      <td>5.0</td>\n",
       "      <td>0</td>\n",
       "      <td>Michael</td>\n",
       "    </tr>\n",
       "    <tr>\n",
       "      <th>1</th>\n",
       "      <td>-5.0</td>\n",
       "      <td>1</td>\n",
       "      <td>John</td>\n",
       "    </tr>\n",
       "  </tbody>\n",
       "</table>\n",
       "</div>"
      ],
      "text/plain": [
       "   cash  user_id username\n",
       "0   5.0        0  Michael\n",
       "1  -5.0        1     John"
      ]
     },
     "metadata": {},
     "output_type": "display_data"
    },
    {
     "data": {
      "text/html": [
       "<div>\n",
       "<table border=\"1\" class=\"dataframe\">\n",
       "  <thead>\n",
       "    <tr style=\"text-align: right;\">\n",
       "      <th></th>\n",
       "      <th>bid_id</th>\n",
       "      <th>ask_id</th>\n",
       "      <th>volume</th>\n",
       "      <th>price</th>\n",
       "      <th>time</th>\n",
       "      <th>bid_time</th>\n",
       "      <th>ask_time</th>\n",
       "      <th>security_id</th>\n",
       "    </tr>\n",
       "  </thead>\n",
       "  <tbody>\n",
       "    <tr>\n",
       "      <th>0</th>\n",
       "      <td>0</td>\n",
       "      <td>1</td>\n",
       "      <td>10</td>\n",
       "      <td>0.5</td>\n",
       "      <td>2019-11-18 23:50:18.114086</td>\n",
       "      <td>2019-11-18 23:50:17.992039</td>\n",
       "      <td>2019-11-18 23:50:18.029965</td>\n",
       "      <td>0</td>\n",
       "    </tr>\n",
       "  </tbody>\n",
       "</table>\n",
       "</div>"
      ],
      "text/plain": [
       "   bid_id  ask_id  volume  price                        time  \\\n",
       "0       0       1      10    0.5  2019-11-18 23:50:18.114086   \n",
       "\n",
       "                     bid_time                    ask_time  security_id  \n",
       "0  2019-11-18 23:50:17.992039  2019-11-18 23:50:18.029965            0  "
      ]
     },
     "metadata": {},
     "output_type": "display_data"
    }
   ],
   "source": [
    "display(pd.read_sql_query('''SELECT * FROM markets''', conn))\n",
    "display(pd.read_sql_query('''SELECT * FROM positions''', conn))\n",
    "display(pd.read_sql_query('''SELECT * FROM settlement''', conn))\n",
    "display(pd.read_sql_query('''SELECT * FROM bids''', conn))\n",
    "display(pd.read_sql_query('''SELECT * FROM asks''', conn))\n",
    "display(pd.read_sql_query('''SELECT * FROM users''', conn))\n",
    "display(pd.read_sql_query('''SELECT * FROM fills''', conn))"
   ]
  },
  {
   "cell_type": "code",
   "execution_count": null,
   "metadata": {},
   "outputs": [],
   "source": []
  }
 ],
 "metadata": {
  "kernelspec": {
   "display_name": "Python 3",
   "language": "python",
   "name": "python3"
  },
  "language_info": {
   "codemirror_mode": {
    "name": "ipython",
    "version": 3
   },
   "file_extension": ".py",
   "mimetype": "text/x-python",
   "name": "python",
   "nbconvert_exporter": "python",
   "pygments_lexer": "ipython3",
   "version": "3.7.4"
  }
 },
 "nbformat": 4,
 "nbformat_minor": 2
}
